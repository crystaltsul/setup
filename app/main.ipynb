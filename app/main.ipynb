{
 "cells": [
  {
   "cell_type": "code",
   "execution_count": 1,
   "metadata": {},
   "outputs": [],
   "source": [
    "import pandas as pd\n",
    "import yaml\n",
    "import importlib\n",
    "import os\n",
    "from typing import Optional, List\n",
    "\n",
    "from langchain_core.pydantic_v1 import BaseModel, Field, validator\n",
    "from langchain_core.prompts import ChatPromptTemplate, MessagesPlaceholder\n",
    "from langchain_core.pydantic_v1 import BaseModel, Field\n",
    "from langchain_core.output_parsers import PydanticOutputParser\n",
    "from langchain_core.prompts import ChatPromptTemplate\n",
    "from langchain_core.pydantic_v1 import BaseModel, Field\n",
    "from langchain_core.messages import HumanMessage\n",
    "from langchain_openai import AzureChatOpenAI\n",
    "from langchain_google_vertexai import ChatVertexAI\n",
    "\n",
    "\n",
    "import address_formatter_rule"
   ]
  },
  {
   "cell_type": "code",
   "execution_count": 2,
   "metadata": {},
   "outputs": [
    {
     "name": "stdout",
     "output_type": "stream",
     "text": [
      "env: ENV=dev\n"
     ]
    }
   ],
   "source": [
    "%env ENV=dev\n",
    "\n",
    "with open(f\"./config/config.{os.getenv('ENV')}.yml\", 'r') as stream:\n",
    "    config = yaml.safe_load(stream)\n",
    "\n",
    "os.environ[\"AZURE_OPENAI_API_KEY\"] = config['OPENAI']['AZURE_OPENAI_API_KEY']\n",
    "os.environ[\"AZURE_OPENAI_ENDPOINT\"] = config['OPENAI']['AZURE_OPENAI_ENDPOINT']\n",
    "os.environ[\"AZURE_OPENAI_API_VERSION\"] = config['OPENAI']['API_VERSION']\n",
    "os.environ[\"AZURE_OPENAI_CHAT_DEPLOYMENT_NAME\"] = config['OPENAI']['GPT3_MODEL']"
   ]
  },
  {
   "cell_type": "markdown",
   "metadata": {},
   "source": [
    "#### Input"
   ]
  },
  {
   "cell_type": "code",
   "execution_count": 3,
   "metadata": {},
   "outputs": [],
   "source": [
    "input = {\n",
    "    'address': '8/F Blk 2, Kodak Hse 39 Healthy St E North Point, Hong Kong',\n",
    "    'country_code': 'HKG',\n",
    "    'language': 'en'\n",
    "}\n",
    "\n",
    "input = {\n",
    "    'address': '香港上環 蘇杭街19-25號 永昌商業大廈16樓B室',\n",
    "    'country_code': 'HKG',\n",
    "    'language': 'zh-hk'\n",
    "}\n",
    "\n",
    "input = {\n",
    "    'address': '510410 中國廣東省廣州市 白雲區祥崗外街5號 福豐大廈606室',\n",
    "    'country_code': 'CHN',\n",
    "    'language': 'zh-hk'\n",
    "}"
   ]
  },
  {
   "cell_type": "markdown",
   "metadata": {},
   "source": [
    "### Prompt"
   ]
  },
  {
   "cell_type": "code",
   "execution_count": 4,
   "metadata": {},
   "outputs": [],
   "source": [
    "\n",
    "\n",
    "\n",
    "if input['language'] == 'en':\n",
    "    line_format = address_formatter_rule.line_format_en\n",
    "else:\n",
    "    line_format = address_formatter_rule.line_format_zh\n",
    "\n",
    "line_format_input = line_format.get(input['country_code'], line_format['default'])\n",
    "\n",
    "class AddressResult(BaseModel):\n",
    "    \"\"\"output of the transcript\"\"\"\n",
    "    # Having a good description can help improve extraction results.\n",
    "    address_line1: Optional[str] = Field(\n",
    "        default=None, description=line_format_input['address_line1'])\n",
    "    address_line2: Optional[str] = Field(\n",
    "        default=None, description=line_format_input['address_line2'])\n",
    "\n",
    "    address_line3: Optional[str] = Field(\n",
    "        default=None, description=line_format_input['address_line3'])\n",
    "\n",
    "    address_line4: Optional[str] = Field(\n",
    "        default=None, description=line_format_input['address_line4'])\n",
    "\n",
    "\n",
    "\n",
    "\n",
    "   "
   ]
  },
  {
   "cell_type": "code",
   "execution_count": 5,
   "metadata": {},
   "outputs": [],
   "source": [
    "if address_formatter_rule.rule.get(input['country_code']) is None:\n",
    "    address_rule = address_formatter_rule.rule.get('default')\n",
    "else:\n",
    "    address_rule = address_formatter_rule.rule.get(input['country_code'])"
   ]
  },
  {
   "cell_type": "code",
   "execution_count": 7,
   "metadata": {},
   "outputs": [],
   "source": [
    "parser = PydanticOutputParser(pydantic_object=AddressResult)\n",
    "# Prompt\n",
    "prompt = ChatPromptTemplate.from_messages(\n",
    "    [\n",
    "        (\n",
    "            \"system\",\n",
    "            \"You are give a one line address and a country code. \"\n",
    "            \"Your task is to format the address into multiple lines according to the country code.\"\n",
    "            \"Here are the rules for the address format:\"\n",
    "            f\"{address_rule}\\n\"\n",
    "            \n",
    "            \"Wrap the output in `json` tags\\n{format_instructions}\"\n",
    "            \"return null for the attribute's value.\"\n",
    "            \"\"\n",
    "        ),\n",
    "        (\"human\", \"{query}\"),\n",
    "    ]\n",
    ").partial(format_instructions=parser.get_format_instructions())"
   ]
  },
  {
   "cell_type": "markdown",
   "metadata": {},
   "source": []
  },
  {
   "cell_type": "code",
   "execution_count": 8,
   "metadata": {},
   "outputs": [],
   "source": [
    "\n",
    "gpt_model = AzureChatOpenAI(\n",
    "    openai_api_version=os.environ[\"AZURE_OPENAI_API_VERSION\"],\n",
    "    azure_deployment=os.environ[\"AZURE_OPENAI_CHAT_DEPLOYMENT_NAME\"],\n",
    "    temperature=0,\n",
    ")\n",
    "\n",
    "# gpt_model = ChatVertexAI(\n",
    "#     # model=\"chat-bison\"\n",
    "#     model=\"gemini-1.5-pro\",\n",
    "#     temperature=0,\n",
    "#     max_tokens=None,\n",
    "#     max_retries=6,\n",
    "#     stop=None,\n",
    "# )"
   ]
  },
  {
   "cell_type": "code",
   "execution_count": 9,
   "metadata": {},
   "outputs": [],
   "source": [
    "chain = prompt | gpt_model | parser"
   ]
  },
  {
   "cell_type": "code",
   "execution_count": 10,
   "metadata": {},
   "outputs": [],
   "source": [
    "\n",
    "clean_out = chain.invoke({\"query\": input['address'] })\n",
    "print(input['address'])\n",
    "print({\n",
    "    \"add1\": clean_out.address_line1,\n",
    "    \"add2\": clean_out.address_line2,\n",
    "    \"add3\": clean_out.address_line3,\n",
    "    \"add4\": clean_out.address_line4\n",
    "}\n",
    ")"
   ]
  },
  {
   "cell_type": "code",
   "execution_count": 12,
   "metadata": {},
   "outputs": [
    {
     "data": {
      "text/plain": [
       "AddressResult(address_line1='510410', address_line2='中國廣東省廣州市白雲區', address_line3='祥崗外街5號', address_line4='福豐大廈606室')"
      ]
     },
     "execution_count": 12,
     "metadata": {},
     "output_type": "execute_result"
    }
   ],
   "source": [
    "clean_out"
   ]
  },
  {
   "cell_type": "code",
   "execution_count": null,
   "metadata": {},
   "outputs": [],
   "source": []
  },
  {
   "cell_type": "code",
   "execution_count": null,
   "metadata": {},
   "outputs": [],
   "source": []
  }
 ],
 "metadata": {
  "kernelspec": {
   "display_name": ".venv",
   "language": "python",
   "name": "python3"
  },
  "language_info": {
   "codemirror_mode": {
    "name": "ipython",
    "version": 3
   },
   "file_extension": ".py",
   "mimetype": "text/x-python",
   "name": "python",
   "nbconvert_exporter": "python",
   "pygments_lexer": "ipython3",
   "version": "3.10.11"
  }
 },
 "nbformat": 4,
 "nbformat_minor": 2
}
